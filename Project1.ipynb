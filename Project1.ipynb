{
 "cells": [
  {
   "cell_type": "markdown",
   "id": "ec173c7f",
   "metadata": {},
   "source": [
    "# Project 1: Scientific computations with Python \n",
    "## James Baker (300573885)"
   ]
  },
  {
   "cell_type": "markdown",
   "id": "98abd691",
   "metadata": {},
   "source": [
    "## Question 1"
   ]
  },
  {
   "cell_type": "markdown",
   "id": "0359d1f7",
   "metadata": {},
   "source": [
    "### Introduction\n",
    "the purpose of this question was to get used to using for loops to iterate over the data  for varing things"
   ]
  },
  {
   "cell_type": "markdown",
   "id": "9febd934",
   "metadata": {},
   "source": [
    "### Procedure\n",
    "I used multiple for loops to iterate over the contents of the vector, x, for varying purposes"
   ]
  },
  {
   "cell_type": "markdown",
   "id": "c6fbc4f7",
   "metadata": {},
   "source": [
    "#### A)\n",
    "I've used a for loop to iterate over the vector, x, to sum up the values in it which I've also rounded at the end although I have commented that out of the result, it essentially just adds all the values up "
   ]
  },
  {
   "cell_type": "code",
   "execution_count": 140,
   "id": "842bbfac",
   "metadata": {},
   "outputs": [
    {
     "name": "stdout",
     "output_type": "stream",
     "text": [
      "12.200000000000001\n"
     ]
    }
   ],
   "source": [
    "x = (0.1, 1.3, -1.5, 0, 12.3)\n",
    "s = 0\n",
    "for i in range(0, len(x)):\n",
    "    s+= x[i]\n",
    "print(s)\n",
    "#print(round(s,1))"
   ]
  },
  {
   "cell_type": "markdown",
   "id": "06934cb8",
   "metadata": {},
   "source": [
    "#### B) \n",
    "this time I have done the same as before except each element of x has been raised to the to the power of its index, this means that the result is significantly larger as 12.3 has been raised to the power of 4"
   ]
  },
  {
   "cell_type": "code",
   "execution_count": 141,
   "id": "9055433a",
   "metadata": {},
   "outputs": [
    {
     "name": "stdout",
     "output_type": "stream",
     "text": [
      "22893.214100000005\n"
     ]
    }
   ],
   "source": [
    "s = 0\n",
    "for i in range(0, len(x)):\n",
    "    s+=x[i]**i\n",
    "print(s)\n",
    "#print(round(s,1))"
   ]
  },
  {
   "cell_type": "markdown",
   "id": "12030c21",
   "metadata": {},
   "source": [
    "#### C) \n",
    "As I didn't use the built absolute value function I used a conditional statement that either negated the value or left it as itself"
   ]
  },
  {
   "cell_type": "code",
   "execution_count": 142,
   "id": "11488915",
   "metadata": {},
   "outputs": [],
   "source": [
    "# this is just my own absolute value function\n",
    "def absVal(i):\n",
    "    return i if i>0 else -i"
   ]
  },
  {
   "cell_type": "code",
   "execution_count": 143,
   "id": "f1812b93",
   "metadata": {},
   "outputs": [
    {
     "name": "stdout",
     "output_type": "stream",
     "text": [
      "12.3\n"
     ]
    }
   ],
   "source": [
    "largestInX = x[0]\n",
    "for i in range(0, len(x)):\n",
    "    test = absVal(x[i])\n",
    "\n",
    "    if largestInX < test:\n",
    "        largestInX = test\n",
    "print(largestInX)"
   ]
  },
  {
   "cell_type": "markdown",
   "id": "99467229",
   "metadata": {},
   "source": [
    "#### D)\n",
    "This does the same as C except for the smallest value  "
   ]
  },
  {
   "cell_type": "code",
   "execution_count": 144,
   "id": "d737fd7c",
   "metadata": {},
   "outputs": [
    {
     "name": "stdout",
     "output_type": "stream",
     "text": [
      "0\n"
     ]
    }
   ],
   "source": [
    "smallestInX = x[0]\n",
    "for i in range(0, len(x)):\n",
    "    if smallestInX<0:\n",
    "        smallestInX = -smallestInX\n",
    "    if smallestInX >x[i]:\n",
    "        smallestInX = x[i]\n",
    "print(smallestInX)"
   ]
  },
  {
   "cell_type": "markdown",
   "id": "75e752fa",
   "metadata": {},
   "source": [
    "#### E) \n",
    "Comparing the user written algorithm and the functions shows that they produce the same values although the"
   ]
  },
  {
   "cell_type": "code",
   "execution_count": 145,
   "id": "2719e1ba",
   "metadata": {},
   "outputs": [
    {
     "name": "stdout",
     "output_type": "stream",
     "text": [
      "12.200000000000001\n",
      "12.3\n",
      "0.0\n"
     ]
    }
   ],
   "source": [
    "import numpy as np\n",
    "print(sum(x))\n",
    "print(max(np.abs(x)))\n",
    "print(min(np.abs(x)))"
   ]
  },
  {
   "cell_type": "markdown",
   "id": "4e3ad098",
   "metadata": {},
   "source": [
    "## Question 2"
   ]
  },
  {
   "cell_type": "markdown",
   "id": "04eeeaf4",
   "metadata": {},
   "source": [
    "### Introduction\n",
    "the questions were centred around manipulation of vectors. for this question I have used two linear spaces over the same interval to create two vectors - these linear spaces have then been appended to A, an array that I'm using as a 2x5 matrix, and have then been reshaped into the 2x5 matrix. "
   ]
  },
  {
   "cell_type": "markdown",
   "id": "ac6914e5",
   "metadata": {},
   "source": [
    "### Procedure\n",
    "I used the numpy to create two seperate vectors over the same interval which have then been appended to A, which has been reshaped into the proper form and then this has been iterated through to create a mean of each"
   ]
  },
  {
   "cell_type": "code",
   "execution_count": 146,
   "id": "92ff71ce",
   "metadata": {},
   "outputs": [
    {
     "name": "stdout",
     "output_type": "stream",
     "text": [
      "[2.   2.75 2.5  2.75 3.  ]\n"
     ]
    }
   ],
   "source": [
    "import numpy as np\n",
    "x = np.linspace(2.,3.,5)\n",
    "x[1] +=1\n",
    "#print(x)\n",
    "y = np.linspace(2.,3.,5)\n",
    "#print(y)\n",
    "A = np.append(x,y).reshape(2,5)\n",
    "#print(A)\n",
    "\n",
    "z = np.zeros(5)\n",
    "for i in range(0, 5):\n",
    "    s = A[0,i]+A[1,i]\n",
    "    z[i] = s/2\n",
    "print(z)"
   ]
  },
  {
   "cell_type": "markdown",
   "id": "bcb88b1e",
   "metadata": {},
   "source": [
    "# Question 3"
   ]
  },
  {
   "cell_type": "markdown",
   "id": "b9e5d81c",
   "metadata": {},
   "source": [
    "### introduction\n",
    "this question is all about manipulating matrices, A and B, then testing them to see if they are singular meaning, that the determinant is 0."
   ]
  },
  {
   "cell_type": "markdown",
   "id": "11fefbdb",
   "metadata": {},
   "source": [
    "### Procedure\n",
    "I have used many different numpy functions to mainpulate the Matrices mostly numpy's dot multiplication function - this allows for easy dot multiplication which otherwise would take a lot of time  "
   ]
  },
  {
   "cell_type": "markdown",
   "id": "1dfe3088",
   "metadata": {},
   "source": [
    "#### A and B \n",
    "the matrices A and B are created from 2x2 arrays then these arrays have been added, subtracted and the dot product of both matrices"
   ]
  },
  {
   "cell_type": "code",
   "execution_count": 147,
   "id": "e6de1634",
   "metadata": {},
   "outputs": [
    {
     "name": "stdout",
     "output_type": "stream",
     "text": [
      "[[ 5  0]\n",
      " [-2  2]]\n",
      "[[-3  4]\n",
      " [10 -4]]\n",
      "[[ -8   4]\n",
      " [ 22 -11]]\n",
      "[[ -4  10]\n",
      " [  6 -15]]\n"
     ]
    }
   ],
   "source": [
    "import numpy as np\n",
    "A = np.array([[1,2],[4,-1]])\n",
    "B = np.array([[4,-2],[-6, 3]])\n",
    "C1 = A+B\n",
    "print(C1)\n",
    "\n",
    "C2 = A-B\n",
    "print(C2)\n",
    "\n",
    "D1 = np.dot(A,B)\n",
    "print(D1)\n",
    "D1 = np.dot(B,A)\n",
    "print(D1)"
   ]
  },
  {
   "cell_type": "markdown",
   "id": "9d28febd",
   "metadata": {},
   "source": [
    "#### C \n",
    "this part creates F, another 2x2 matrix as a composite of A and B but where each entry of F is the same entry in A + A times the cube root of the same entry in B "
   ]
  },
  {
   "cell_type": "code",
   "execution_count": 148,
   "id": "f6c20a73",
   "metadata": {},
   "outputs": [
    {
     "name": "stdout",
     "output_type": "stream",
     "text": [
      "[[ 2.58740105 -0.5198421 ]\n",
      " [-3.26848237 -2.44224957]]\n"
     ]
    }
   ],
   "source": [
    "F = np.zeros((2,2))\n",
    "#print(F)\n",
    "for i in range(0,2):\n",
    "    for j in range(0,2):\n",
    "        F[i,j] = A[i,j]+ A[i,j]*np.cbrt(B[i,j])\n",
    "print(F)\n"
   ]
  },
  {
   "cell_type": "markdown",
   "id": "060e242f",
   "metadata": {},
   "source": [
    "#### D part 1\n",
    "this part works out if A is singular, mult is the number the R1 needs to be multplied by to make sure that each pivot is decending this is then used to check if a matrix is singular"
   ]
  },
  {
   "cell_type": "code",
   "execution_count": 149,
   "id": "1f26a21d",
   "metadata": {},
   "outputs": [
    {
     "name": "stdout",
     "output_type": "stream",
     "text": [
      "[[ 1.  2.]\n",
      " [ 0. -9.]]\n",
      "A is not singular\n",
      "[[ 0.11111111  0.22222222]\n",
      " [ 0.44444444 -0.11111111]]\n"
     ]
    }
   ],
   "source": [
    "mult = A[1,0]/A[0,0]\n",
    "\n",
    "DI = np.array([[A[0,0],A[0,1]],[A[1,0]-mult*A[0][0],A[1,1]-mult*A[0][1]]])\n",
    "print(DI)\n",
    "if DI[1][1] != 0:\n",
    "    print(\"A is not singular\")\n",
    "    AINV = np.linalg.inv(A)\n",
    "    print(AINV)\n",
    "else: \n",
    "    print(\"A is Singular\")"
   ]
  },
  {
   "cell_type": "markdown",
   "id": "7099321b",
   "metadata": {},
   "source": [
    "#### D part 2 and E\n",
    "this part works out if B is singular and produces the Eigenvalues of B"
   ]
  },
  {
   "cell_type": "code",
   "execution_count": 150,
   "id": "1a5968e9",
   "metadata": {},
   "outputs": [
    {
     "name": "stdout",
     "output_type": "stream",
     "text": [
      "[[ 4. -2.]\n",
      " [ 0.  0.]]\n",
      "B is Singular\n",
      "7.0\n",
      "-4.440892098500626e-16\n"
     ]
    }
   ],
   "source": [
    "mult = B[1,0]/B[0,0]\n",
    "DI = np.array([[B[0,0],B[0,1]],[B[1,0]-mult*B[0][0],B[1,1]-mult*B[0][1]]])\n",
    "print(DI)\n",
    "\n",
    "if DI[1][1] != 0:\n",
    "    print(\"B is not singular\")\n",
    "    AINV = np.linalg.inv(B)\n",
    "    print(AINV)\n",
    "else: \n",
    "    print(\"B is Singular\")\n",
    "w,v = np.linalg.eigvals(B)\n",
    "print(w)\n",
    "print(v)"
   ]
  },
  {
   "cell_type": "markdown",
   "id": "c375d683",
   "metadata": {},
   "source": [
    "B has one Eigenvalue non-zero eigenvector, 7, but the other one is returned as a machine epsilon value that should be 0."
   ]
  },
  {
   "cell_type": "markdown",
   "id": "2bf482d7",
   "metadata": {},
   "source": [
    "# Question 4"
   ]
  },
  {
   "cell_type": "markdown",
   "id": "e6fb42b8",
   "metadata": {},
   "source": [
    "### Introduction\n",
    "This question involved two random vectors over the interval [-10,10] and graphing versions of the set"
   ]
  },
  {
   "cell_type": "markdown",
   "id": "947cf1bb",
   "metadata": {},
   "source": [
    "## Procedure\n",
    "Through (4) I have used two seperate mydot functions as it allows for more options and lets me show my working in two seperate ways"
   ]
  },
  {
   "cell_type": "code",
   "execution_count": 151,
   "id": "97a8eb07",
   "metadata": {
    "scrolled": true
   },
   "outputs": [],
   "source": [
    "import numpy as np\n",
    "x = -10+(10+10)*np.random.rand(100)\n",
    "y = -10+(10+10)*np.random.rand(100)\n",
    "#print(x)\n",
    "#print(y)"
   ]
  },
  {
   "cell_type": "code",
   "execution_count": 152,
   "id": "220a6774",
   "metadata": {},
   "outputs": [
    {
     "name": "stdout",
     "output_type": "stream",
     "text": [
      "-159.65455049052161\n",
      "-159.65455049052161\n",
      "-159.65455049052161\n"
     ]
    }
   ],
   "source": [
    "import numpy as np\n",
    "def mydot(x,y):\n",
    "    s = 0\n",
    "    for i in range(len(x)):\n",
    "        s += x[i]*y[i]\n",
    "    return s\n",
    "#two sepereate methods that function identically\n",
    "def mydot(x,y):\n",
    "    s= sum(i*j for i,j in zip(x,y))\n",
    "    return s\n",
    "print(mydot(x,y))\n",
    "print(np.dot(x,y))\n",
    "\n",
    "print(np.inner(x,y))"
   ]
  },
  {
   "cell_type": "markdown",
   "id": "7355ec3b",
   "metadata": {},
   "source": [
    "The results are functionally the same except a slight errors at around the thirteenth digit "
   ]
  },
  {
   "cell_type": "markdown",
   "id": "eedc599b",
   "metadata": {},
   "source": [
    "# Question 5"
   ]
  },
  {
   "cell_type": "markdown",
   "id": "f3005b27",
   "metadata": {},
   "source": [
    "### Introduction\n",
    "This question involved manipulaiton of a data set, x, over an interval $[0,1)$ at a distance of 0.01 or alternately defined by the reccurance relation $x_{i} = x_{i-1} +0.01$ "
   ]
  },
  {
   "cell_type": "markdown",
   "id": "7d87e4ac",
   "metadata": {},
   "source": [
    "### Procedure\n",
    "each graph is relatively accurate  "
   ]
  },
  {
   "cell_type": "code",
   "execution_count": 153,
   "id": "824fef35",
   "metadata": {},
   "outputs": [],
   "source": [
    "import numpy as np\n",
    "from matplotlib import pyplot as plt\n",
    "x = np.round_(np.linspace(0,1,100), 2)\n",
    "#Sets up all possible data sets"
   ]
  },
  {
   "cell_type": "markdown",
   "id": "bcaba314",
   "metadata": {},
   "source": [
    "#### B)"
   ]
  },
  {
   "cell_type": "code",
   "execution_count": 154,
   "id": "4b215ebf",
   "metadata": {},
   "outputs": [
    {
     "data": {
      "image/png": "[encoded data removed]",
      "text/plain": [
       "<Figure size 432x288 with 1 Axes>"
      ]
     },
     "metadata": {
      "needs_background": "light"
     },
     "output_type": "display_data"
    }
   ],
   "source": [
    "xLog1 = np.log(1+np.sqrt(x))\n",
    "plt.title(\"Graph of $log(1 + √x)$\")\n",
    "plt.plot(x,xLog1)\n",
    "plt.show()"
   ]
  },
  {
   "cell_type": "markdown",
   "id": "01a7159d",
   "metadata": {},
   "source": [
    "#### C)"
   ]
  },
  {
   "cell_type": "code",
   "execution_count": 155,
   "id": "e28a22dd",
   "metadata": {
    "scrolled": true
   },
   "outputs": [
    {
     "data": {
      "image/png": "[encoded data removed]",
      "text/plain": [
       "<Figure size 432x288 with 1 Axes>"
      ]
     },
     "metadata": {
      "needs_background": "light"
     },
     "output_type": "display_data"
    }
   ],
   "source": [
    "eX = np.exp(x+np.sqrt(x))\n",
    "plt.title(\"Graph of $e^{x+{x^{2}}}$\")\n",
    "plt.plot(x,eX)\n",
    "plt.show()"
   ]
  },
  {
   "cell_type": "markdown",
   "id": "6fa8571d",
   "metadata": {},
   "source": [
    "#### C)"
   ]
  },
  {
   "cell_type": "code",
   "execution_count": 156,
   "id": "41667e5c",
   "metadata": {
    "scrolled": false
   },
   "outputs": [
    {
     "data": {
      "image/png": "[encoded data removed]",
      "text/plain": [
       "<Figure size 432x288 with 1 Axes>"
      ]
     },
     "metadata": {
      "needs_background": "light"
     },
     "output_type": "display_data"
    }
   ],
   "source": [
    "arcosX = np.arccos(x)\n",
    "plt.title(\"Graph of $arccos(x)$\")\n",
    "plt.plot(x,arcosX)\n",
    "plt.show()"
   ]
  },
  {
   "cell_type": "markdown",
   "id": "a1e0b38e",
   "metadata": {},
   "source": [
    "#### D)"
   ]
  },
  {
   "cell_type": "code",
   "execution_count": 157,
   "id": "cdb9e551",
   "metadata": {
    "scrolled": true
   },
   "outputs": [
    {
     "data": {
      "image/png": "[encoded data removed]",
      "text/plain": [
       "<Figure size 432x288 with 1 Axes>"
      ]
     },
     "metadata": {
      "needs_background": "light"
     },
     "output_type": "display_data"
    }
   ],
   "source": [
    "x1 = x\n",
    "x = np.delete(x,0)\n",
    "xSqrtLog = np.sqrt(1+np.square(np.log(x)))\n",
    "plt.title(\"Graph of $√(1 + log^2(x))$\")\n",
    "plt.plot(x,xSqrtLog)\n",
    "plt.show()\n",
    "x = x1"
   ]
  },
  {
   "cell_type": "markdown",
   "id": "0b5dbd8c",
   "metadata": {},
   "source": [
    "#### E)"
   ]
  },
  {
   "cell_type": "code",
   "execution_count": 158,
   "id": "dd8cf7ad",
   "metadata": {},
   "outputs": [
    {
     "data": {
      "image/png": "[encoded data removed]",
      "text/plain": [
       "<Figure size 432x288 with 1 Axes>"
      ]
     },
     "metadata": {
      "needs_background": "light"
     },
     "output_type": "display_data"
    }
   ],
   "source": [
    "tanSqX = np.square(np.tan(x))-1\n",
    "plt.title(\"Graph of $tan^2x - 1$\")\n",
    "plt.plot(x, tanSqX)\n",
    "plt.show()"
   ]
  },
  {
   "cell_type": "markdown",
   "id": "ba918164",
   "metadata": {},
   "source": [
    "# Question 6"
   ]
  },
  {
   "cell_type": "markdown",
   "id": "31930960",
   "metadata": {},
   "source": [
    "### Introduction\n",
    "this question involved matrix manipulation to get it into a banded form "
   ]
  },
  {
   "cell_type": "markdown",
   "id": "e1c73fea",
   "metadata": {},
   "source": [
    "#### A)\n",
    "this essentially just sets up function and solves the equation as required"
   ]
  },
  {
   "cell_type": "code",
   "execution_count": 159,
   "id": "aba7a161",
   "metadata": {},
   "outputs": [
    {
     "name": "stdout",
     "output_type": "stream",
     "text": [
      "[[1.]\n",
      " [1.]\n",
      " [1.]\n",
      " [1.]]\n"
     ]
    }
   ],
   "source": [
    "import numpy as np\n",
    "from scipy.linalg import solve_banded\n",
    "import timeit as t\n",
    "A = np.array([3, 2, 1, 0,-3 ,-2, 7, 1, 3, 2, -1, 5, 0, 1, 2, 3]).reshape(4,4)\n",
    "b = np.array([6,3,9,6]).reshape(4,1)\n",
    "C = np.linalg.solve(A,b)\n",
    "print(C)"
   ]
  },
  {
   "cell_type": "markdown",
   "id": "75ce97ae",
   "metadata": {},
   "source": [
    "#### B)\n",
    "This part bands the Matrix A into a LU triagonal matrix"
   ]
  },
  {
   "cell_type": "code",
   "execution_count": 160,
   "id": "31415634",
   "metadata": {},
   "outputs": [
    {
     "data": {
      "text/plain": [
       "0.001808923901990056"
      ]
     },
     "execution_count": 160,
     "metadata": {},
     "output_type": "execute_result"
    }
   ],
   "source": [
    "def banded(A):\n",
    "    aBanded = np.zeros((4,4))\n",
    "    l = 2\n",
    "    u = 1\n",
    "    for j in range(4):   \n",
    "        maxA = max(1, j+1-u)\n",
    "        minA = min(4, j+1+l)\n",
    "        for i in range(maxA-1,minA):\n",
    "            aBanded[u+i-j,j] = A[i,j]\n",
    "    return aBanded\n",
    "starttime = t.timeit()\n",
    "aB = banded(A)\n",
    "#print(aB)\n",
    "difference = starttime - t.timeit() \n",
    "difference"
   ]
  },
  {
   "cell_type": "markdown",
   "id": "3710ed9a",
   "metadata": {},
   "source": [
    "#### C)\n",
    "This just produces the solved form of the banded matrix and times"
   ]
  },
  {
   "cell_type": "code",
   "execution_count": 161,
   "id": "8153a594",
   "metadata": {},
   "outputs": [
    {
     "name": "stdout",
     "output_type": "stream",
     "text": [
      "[[1.]\n",
      " [1.]\n",
      " [1.]\n",
      " [1.]]\n"
     ]
    },
    {
     "data": {
      "text/plain": [
       "0.015947086038067937"
      ]
     },
     "execution_count": 161,
     "metadata": {},
     "output_type": "execute_result"
    }
   ],
   "source": [
    "startTime = t.timeit()\n",
    "aB = solve_banded((2,1),banded(A),b)\n",
    "aB = np.round(aB)\n",
    "print(aB)\n",
    "difference1 =t.timeit() + startTime \n",
    "difference1 "
   ]
  },
  {
   "cell_type": "markdown",
   "id": "236b7a86",
   "metadata": {},
   "source": [
    "#### D)\n",
    "The timing for both is relatively similar the Scipy function only takes 0.06 functions to run but the banding function takes 0.013668 seconds "
   ]
  }
 ],
 "metadata": {
  "kernelspec": {
   "display_name": "Python 3 (ipykernel)",
   "language": "python",
   "name": "python3"
  },
  "language_info": {
   "codemirror_mode": {
    "name": "ipython",
    "version": 3
   },
   "file_extension": ".py",
   "mimetype": "text/x-python",
   "name": "python",
   "nbconvert_exporter": "python",
   "pygments_lexer": "ipython3",
   "version": "3.9.13"
  }
 },
 "nbformat": 4,
 "nbformat_minor": 5
}
